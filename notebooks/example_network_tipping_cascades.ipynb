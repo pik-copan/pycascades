{
 "cells": [
  {
   "cell_type": "code",
   "execution_count": 2,
   "metadata": {},
   "outputs": [],
   "source": [
    "import numpy as np\n",
    "import matplotlib.pyplot as plt\n",
    "import pycascades as pc\n",
    "import networkx as nx\n",
    "import seaborn as sns\n",
    "sns.set(font_scale=1.5)\n",
    "sns.set_style(\"white\")"
   ]
  },
  {
   "cell_type": "markdown",
   "metadata": {},
   "source": [
    "We first collect all the inputs."
   ]
  },
  {
   "cell_type": "code",
   "execution_count": 4,
   "metadata": {},
   "outputs": [],
   "source": [
    "cusp_element_0 = pc.cusp( a = -4, b = 1, c = 0, x_0 = 0.5 )\n",
    "coupling_0 = pc.linear_coupling(strength = 0.2)\n",
    "coupling_1 = pc.linear_coupling(strength = -0.4)\n",
    "\n",
    "#Network Specifications\n",
    "size = 15\n",
    "degree = 3\n",
    "rewiring_ws = 0.15\n",
    "t_step = 1\n",
    "t_end = 199\n"
   ]
  },
  {
   "cell_type": "markdown",
   "metadata": {},
   "source": [
    "Erdös-Rényi"
   ]
  },
  {
   "cell_type": "code",
   "execution_count": 9,
   "metadata": {},
   "outputs": [],
   "source": [
    "G = nx.erdos_renyi_graph(size, degree/size, directed = True, seed = None)\n",
    "net = pc.gen.networks.from_nxgraph( G, element_pool = [cusp_element_0], coupling_pool = [coupling_0, coupling_1])\n",
    "while net.number_of_edges() / net.number_of_nodes() < 2.9 or net.number_of_edges() / net.number_of_nodes() > 3.1:\n",
    "\tG = nx.erdos_renyi_graph(size, degree/size, directed = True, seed = None)\n",
    "\tnet = pc.gen.networks.from_nxgraph( G, element_pool = [cusp_element_0], coupling_pool = [coupling_0, coupling_1])\n",
    "net_size = net.number_of_nodes()\n",
    "initial_state = np.zeros(net_size)\n",
    "node = 0\n",
    "ev = pc.evolve( net , initial_state )\n",
    "c = net.nodes[node]['data'].get_par()['c']\n",
    "net.set_param( node, 'c', 0.2 )\n",
    "ev.integrate(t_step, t_end)\n",
    "output_er = []\n",
    "for i in range(0, len(ev.get_timeseries()[1])):\n",
    "\toutput_er.append([i, net.get_number_tipped(ev.get_timeseries()[1][i,:])])\n",
    "output_er = np.array(output_er)\n",
    "\n",
    "\n",
    "#Create a cool network\n",
    "while output_er[-1][1] < 4 or output_er[-1][1] > 8:\n",
    "\tG = nx.erdos_renyi_graph(size, degree/size, directed = True, seed = None)\n",
    "\tnet = pc.gen.networks.from_nxgraph( G, element_pool = [cusp_element_0], coupling_pool = [coupling_0, coupling_1])\n",
    "\twhile net.number_of_edges() / net.number_of_nodes() < 2.9 or net.number_of_edges() / net.number_of_nodes() > 3.1:\n",
    "\t\tG = nx.erdos_renyi_graph(size, degree/size, directed = True, seed = None)\n",
    "\t\tnet = pc.gen.networks.from_nxgraph( G, element_pool = [cusp_element_0], coupling_pool = [coupling_0, coupling_1])\n",
    "\tnet_size = net.number_of_nodes()\n",
    "\tinitial_state = np.zeros(net_size)\n",
    "\tnode = 0\n",
    "\tev = pc.evolve( net , initial_state )\n",
    "\tc = net.nodes[node]['data'].get_par()['c']\n",
    "\tnet.set_param( node, 'c', 0.2 )\n",
    "\tev.integrate(t_step, t_end)\n",
    "\n",
    "\toutput_er = []\n",
    "\tfor i in range(0, len(ev.get_timeseries()[1])):\n",
    "\t\toutput_er.append([i, net.get_number_tipped(ev.get_timeseries()[1][i,:])])\n",
    "\toutput_er = np.array(output_er)\n",
    "\n"
   ]
  },
  {
   "cell_type": "markdown",
   "metadata": {},
   "source": [
    "Watts-Strogatz"
   ]
  },
  {
   "cell_type": "code",
   "execution_count": 10,
   "metadata": {},
   "outputs": [],
   "source": [
    "net = pc.gen.networks.directed_watts_strogatz_graph(size, degree, rewiring_ws, element_pool = [cusp_element_0], coupling_pool = [coupling_0, coupling_1] )\n",
    "net_size = net.number_of_nodes()\n",
    "initial_state = np.zeros(net_size)\n",
    "node = 0\n",
    "ev = pc.evolve( net , initial_state )\n",
    "c = net.nodes[node]['data'].get_par()['c']\n",
    "net.set_param( node, 'c', 0.2 )\n",
    "ev.integrate(t_step, t_end)\n",
    "output_ws = []\n",
    "for i in range(0, len(ev.get_timeseries()[1])):\n",
    "\toutput_ws.append([i, net.get_number_tipped(ev.get_timeseries()[1][i,:])])\n",
    "output_ws = np.array(output_ws)\n",
    "\n",
    "#Create a cool network\n",
    "while output_ws[-1][1] < 4 or output_ws[-1][1] > 8:\n",
    "\tnet = pc.gen.networks.directed_watts_strogatz_graph(size, degree, rewiring_ws, element_pool = [cusp_element_0], coupling_pool = [coupling_0, coupling_1] )\n",
    "\tnet_size = net.number_of_nodes()\n",
    "\tinitial_state = np.zeros(net_size)\n",
    "\tnode = 0\n",
    "\tev = pc.evolve( net , initial_state )\n",
    "\tc = net.nodes[node]['data'].get_par()['c']\n",
    "\tnet.set_param( node, 'c', 0.2 )\n",
    "\tev.integrate(t_step, t_end)\n",
    "\n",
    "\toutput_ws = []\n",
    "\tfor i in range(0, len(ev.get_timeseries()[1])):\n",
    "\t\toutput_ws.append([i, net.get_number_tipped(ev.get_timeseries()[1][i,:])])\n",
    "\toutput_ws = np.array(output_ws)\n"
   ]
  },
  {
   "cell_type": "markdown",
   "metadata": {},
   "source": [
    "Barabasi-Albert"
   ]
  },
  {
   "cell_type": "code",
   "execution_count": 11,
   "metadata": {},
   "outputs": [],
   "source": [
    "net = pc.gen.networks.directed_barabasi_albert_graph(size, degree, element_pool = [cusp_element_0], coupling_pool = [coupling_0, coupling_1] )\n",
    "net_size = net.number_of_nodes()\n",
    "initial_state = np.zeros(net_size)\n",
    "node = 0\n",
    "ev = pc.evolve( net , initial_state )\n",
    "c = net.nodes[node]['data'].get_par()['c']\n",
    "net.set_param( node, 'c', 0.2 )\n",
    "ev.integrate(t_step, t_end)\n",
    "output_ba = []\n",
    "for i in range(0, len(ev.get_timeseries()[1])):\n",
    "\toutput_ba.append([i, net.get_number_tipped(ev.get_timeseries()[1][i,:])])\n",
    "output_ba = np.array(output_ba)\n",
    "\n",
    "#Create a cool network\n",
    "while output_ba[-1][1] < 4 or output_ba[-1][1] > 8:\n",
    "\tnet = pc.gen.networks.directed_barabasi_albert_graph(size, degree, element_pool = [cusp_element_0], coupling_pool = [coupling_0, coupling_1] )\n",
    "\tnet_size = net.number_of_nodes()\n",
    "\tinitial_state = np.zeros(net_size)\n",
    "\tnode = 0\n",
    "\tev = pc.evolve( net , initial_state )\n",
    "\tc = net.nodes[node]['data'].get_par()['c']\n",
    "\tnet.set_param( node, 'c', 0.2 )\n",
    "\tev.integrate(t_step, t_end)\n",
    "\n",
    "\toutput_ba = []\n",
    "\tfor i in range(0, len(ev.get_timeseries()[1])):\n",
    "\t\toutput_ba.append([i, net.get_number_tipped(ev.get_timeseries()[1][i,:])])\n",
    "\toutput_ba = np.array(output_ba)\n"
   ]
  },
  {
   "cell_type": "markdown",
   "metadata": {},
   "source": [
    "Plotting the results."
   ]
  },
  {
   "cell_type": "code",
   "execution_count": 12,
   "metadata": {},
   "outputs": [
    {
     "data": {
      "image/png": "[encoded data removed]",
      "text/plain": [
       "<Figure size 1152x432 with 3 Axes>"
      ]
     },
     "metadata": {},
     "output_type": "display_data"
    }
   ],
   "source": [
    "fig, (ax0, ax1, ax2) = plt.subplots(1, 3, figsize=(16, 6)) #(default: 8, 6)\n",
    "\n",
    "ax0.plot(output_er.T[0], output_er.T[1], color=\"#C44E52\", linewidth=2.0, label=\"Erdös-Rényi\")\n",
    "ax0.set_xlabel(\"Time [a.u.]\")\n",
    "ax0.set_ylabel(\"N$_\\mathrm{tipped}$\")\n",
    "ax0.legend(loc=\"upper left\")\n",
    "ax0.set_ylim([-0.1, 10])\n",
    "\n",
    "ax1.plot(output_ws.T[0], output_ws.T[1], color=\"#C44E52\", linewidth=2.0, label=\"Watts-Strogatz\")\n",
    "ax1.set_xlabel(\"Time [a.u.]\")\n",
    "ax1.set_ylabel(\"N$_\\mathrm{tipped}$\")\n",
    "ax1.legend(loc=\"upper left\")\n",
    "ax1.set_ylim([-0.1, 10])\n",
    "\n",
    "ax2.plot(output_ba.T[0], output_ba.T[1], color=\"#C44E52\", linewidth=2.0, label=\"Barabási-Albert\")\n",
    "ax2.set_xlabel(\"Time [a.u.]\")\n",
    "ax2.set_ylabel(\"N$_\\mathrm{tipped}$\")\n",
    "ax2.legend(loc=\"upper left\")\n",
    "ax2.set_ylim([-0.1, 10])\n",
    "\n",
    "fig.tight_layout()\n",
    "plt.show()"
   ]
  }
 ],
 "metadata": {
  "interpreter": {
   "hash": "ead8f0e69439273f4d5ec28db6a0e00149a99381b9d8d1a34a3f4638b80af4ec"
  },
  "kernelspec": {
   "display_name": "Python 3.9.7 64-bit ('MA': conda)",
   "name": "python3"
  },
  "language_info": {
   "codemirror_mode": {
    "name": "ipython",
    "version": 3
   },
   "file_extension": ".py",
   "mimetype": "text/x-python",
   "name": "python",
   "nbconvert_exporter": "python",
   "pygments_lexer": "ipython3",
   "version": "3.9.7"
  },
  "orig_nbformat": 4
 },
 "nbformat": 4,
 "nbformat_minor": 2
}
