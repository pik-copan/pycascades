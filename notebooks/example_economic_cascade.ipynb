{
 "cells": [
  {
   "cell_type": "code",
   "execution_count": null,
   "metadata": {},
   "outputs": [],
   "source": [
    "import csv\n",
    "from datetime import timedelta\n",
    "import numpy as np\n",
    "import time\n",
    "import pycascades as pc"
   ]
  },
  {
   "cell_type": "markdown",
   "metadata": {},
   "source": [
    "Tipping cascade on the normalised international trade network with economic tipping elements. \n",
    "The network is read from a csv file which contains the normalised weight matrix. \n",
    "The start node is given as a command line argument; the network is initialised \n",
    "with all nodes in the untipped state x=1 except for the start node, which is \n",
    "tipped and set to x=0. The system is then evolved for a specific time or until \n",
    "it reaches equilibrium (under a given tolerance).\n",
    "1) Economic cascades can be started with this notebook.\n",
    "2) The underlying data for the EORA network must, however, be requested from the Acclimate group at the Potsdam-Institute for Climate Impact Research"
   ]
  },
  {
   "cell_type": "markdown",
   "metadata": {},
   "source": [
    "Set parameters, load Data"
   ]
  },
  {
   "cell_type": "code",
   "execution_count": null,
   "metadata": {},
   "outputs": [],
   "source": [
    "start_time = time.time()\n",
    "\n",
    "w_log = 0.2 # weight of the logistic term\n",
    "startnode = 1 # start node for the cascade\n",
    "timestep =  0.5 # time interval after which the system is saved. \n",
    "    # not the actual integration timestep, which is determined by the \n",
    "    # scipy.integrate.odeint solver\n",
    "breaktime = 10 # time after which the integration is ended\n",
    "tol = 0.0001 # tolerance for determining whether the system is in equilibrium\n",
    "\n",
    "### load normalised weight matrix\n",
    "n_s = 27 # number of sectors\n",
    "n_c = 188 # number of countries\n",
    "flows_2d = []\n",
    "with open('EORA_2012_normalised.csv') as f:\n",
    "    rd = csv.reader(f)\n",
    "    for row in rd:\n",
    "        flows_2d.append( [ float(element) for element in row ] )"
   ]
  },
  {
   "cell_type": "markdown",
   "metadata": {},
   "source": [
    "Set up network"
   ]
  },
  {
   "cell_type": "code",
   "execution_count": null,
   "metadata": {},
   "outputs": [],
   "source": [
    "element = pc.economic_logistic(a=4,b=0.5,c=10,w=w_log)\n",
    "net = pc.tipping_network_economic()\n",
    "for i_s in range(n_s * n_c):\n",
    "    net.add_element( element, n_s=n_s )\n",
    "for j_s in range(n_s):\n",
    "    for j_c in range(n_c):\n",
    "        for i_s in range(n_s):\n",
    "            for i_c in range(n_c):\n",
    "                if flows_2d[i_s + i_c*n_s][j_s + j_c*n_s]:\n",
    "                        net.add_coupling( i_c * n_s + i_s,  j_c * n_s + j_s, i_s, \n",
    "                            pc.linear_coupling(strength = flows_2d[i_s + i_c*n_s][j_s + j_c*n_s]) )"
   ]
  },
  {
   "cell_type": "markdown",
   "metadata": {},
   "source": [
    "set up initial state, fix dynamic of start node (otherwise it might tip back immediately)"
   ]
  },
  {
   "cell_type": "code",
   "execution_count": null,
   "metadata": {},
   "outputs": [],
   "source": [
    "initial_state = [1] * (n_s * n_c)\n",
    "initial_state[startnode] = 0\n",
    "net.set_param( startnode, 'r_0', -1 )\n",
    "net.node[startnode]['sectorlist'] = [ [] for i in range(n_s)]"
   ]
  },
  {
   "cell_type": "markdown",
   "metadata": {},
   "source": [
    "evolve network up to breaktime"
   ]
  },
  {
   "cell_type": "code",
   "execution_count": null,
   "metadata": {},
   "outputs": [],
   "source": [
    "ev = pc.evolve( net, initial_state )\n",
    "while ev._t < breaktime:\n",
    "    ev._integrate_economic( timestep, timeseries=False, mxstep=1000 )\n",
    "    tipped = net.get_tip_states( ev._x )\n",
    "    \n",
    "    ### save the tipstates of every node every timestep in an individual file\n",
    "    np.savetxt(\"tipped_n%i_t%.1f.csv\"%(startnode,ev._t),tipped, delimiter=\",\")\n",
    "    \n",
    "    # ### save the average state and the number of tipped nodes every timestep in a single file\n",
    "    # avstate = np.mean(ev._x)\n",
    "    # n_tipped = net.get_number_tipped( ev._x )\n",
    "    # with open(\"output/time_avstate_tipped_w\" + str(w_log) + \"_c\" + str(startcountry) + \"_s\" + str(startsector) + \".csv\", 'a') as f:\n",
    "        # wr = csv.writer(f)\n",
    "        # wr.writerow( [ev._t, avstate, tipped] )\n",
    "    \n",
    "    # ### stop integration once equilibrium is reached\n",
    "    # if ev.is_equilibrium_sec(tol):\n",
    "        # break\n",
    "\n",
    "print(str(timedelta(seconds=time.time()-start_time)))"
   ]
  }
 ],
 "metadata": {
  "language_info": {
   "name": "python"
  },
  "orig_nbformat": 4
 },
 "nbformat": 4,
 "nbformat_minor": 2
}
